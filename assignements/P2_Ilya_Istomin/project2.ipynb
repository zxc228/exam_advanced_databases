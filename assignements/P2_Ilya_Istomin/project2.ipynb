{
 "cells": [
  {
   "cell_type": "markdown",
   "metadata": {},
   "source": [
    "Initialization"
   ]
  },
  {
   "cell_type": "code",
   "execution_count": 10,
   "metadata": {},
   "outputs": [
    {
     "name": "stdout",
     "output_type": "stream",
     "text": [
      "Initialized classes: ['Nominatim', 'GeocoderTimedOut', 'Any', 'Point', 'Collection', 'Cursor', 'Model', 'ModelCursor', 'Customer', 'Product', 'Purchase', 'Supplier']\n",
      "Added classes to environment: ['Nominatim', 'GeocoderTimedOut', 'Any', 'Point', 'Collection', 'Cursor', 'Model', 'ModelCursor', 'Customer', 'Product', 'Purchase', 'Supplier']\n"
     ]
    }
   ],
   "source": [
    "import ODM\n",
    "\n",
    "# Параметры для инициализации\n",
    "definitions_path = \"./models_product.yml\"\n",
    "mongodb_uri = \"mongodb://localhost:27017/\"\n",
    "db_name = \"db1\"\n",
    "\n",
    "# Инициализация моделей\n",
    "ODM.initApp(definitions_path=definitions_path, mongodb_uri=mongodb_uri, db_name=db_name)\n",
    "\n",
    "# Проверяем, какие классы были созданы в модуле ODM\n",
    "initialized_classes = [\n",
    "    name for name, obj in ODM.__dict__.items()\n",
    "    if isinstance(obj, type)  # Проверяем, что это класс\n",
    "]\n",
    "print(\"Initialized classes:\", initialized_classes)\n",
    "# Получаем все классы из модуля ODM\n",
    "dynamic_classes = {\n",
    "    name: obj for name, obj in ODM.__dict__.items()\n",
    "    if isinstance(obj, type)  # Проверяем, что это класс\n",
    "}\n",
    "\n",
    "# Добавляем их в текущее глобальное пространство\n",
    "globals().update(dynamic_classes)\n",
    "\n",
    "# Или добавляем их в отдельный словарь для работы\n",
    "my_environment = {}\n",
    "my_environment.update(dynamic_classes)\n",
    "\n",
    "# Проверяем результат\n",
    "print(\"Added classes to environment:\", list(my_environment.keys()))"
   ]
  },
  {
   "cell_type": "code",
   "execution_count": 11,
   "metadata": {},
   "outputs": [],
   "source": [
    "from pprint import pprint"
   ]
  },
  {
   "cell_type": "markdown",
   "metadata": {},
   "source": [
    "Q1"
   ]
  },
  {
   "cell_type": "code",
   "execution_count": 14,
   "metadata": {},
   "outputs": [
    {
     "name": "stdout",
     "output_type": "stream",
     "text": [
      "List of customer's purchases:\n",
      "[{'_id': ObjectId('678cf3fc7a7750b77cf5ee90'),\n",
      "  'customer': 'Tony Stark',\n",
      "  'products': ['Smartphone', 'Tablet', 'Smart Speaker'],\n",
      "  'purchase_date': '2024-10-01',\n",
      "  'purchase_price': 300.0}]\n"
     ]
    }
   ],
   "source": [
    "# Query 1: List all purchases of a customer\n",
    "\n",
    "customer_id = \"Tony Stark\"  \n",
    "Q1 = [\n",
    "    {\"$match\": {\"customer\": customer_id}}\n",
    "]\n",
    "\n",
    "\n",
    "\n",
    "purchases = list(Purchase.aggregate(Q1))\n",
    "print(\"List of customer's purchases:\")\n",
    "pprint(purchases)"
   ]
  },
  {
   "cell_type": "markdown",
   "metadata": {},
   "source": [
    "Q2\n"
   ]
  },
  {
   "cell_type": "code",
   "execution_count": 25,
   "metadata": {},
   "outputs": [
    {
     "name": "stdout",
     "output_type": "stream",
     "text": [
      "List of suppliers for 'Air Conditioner':\n",
      "[{'supplier_details': {'name': 'Armstrong Ltd'}},\n",
      " {'supplier_details': {'name': 'Fitzgerald, Franklin and Acosta'}}]\n"
     ]
    }
   ],
   "source": [
    "# Query 2: List all suppliers for the product \"Air Conditioner\"\n",
    "product_name = \"Air Conditioner\"\n",
    "\n",
    "Q2 = [\n",
    "    {\"$match\": {\"name\": product_name}},\n",
    "    {\"$lookup\": {\n",
    "        \"from\": \"Supplier\",\n",
    "        \"localField\": \"suppliers\",\n",
    "        \"foreignField\": \"name\",\n",
    "        \"as\": \"supplier_details\"\n",
    "    }},\n",
    "    {\"$unwind\": \"$supplier_details\"},\n",
    "    {\"$project\": {\"supplier_details.name\": 1, \"_id\": 0}}\n",
    "]\n",
    "\n",
    "\n",
    "\n",
    "suppliers = list(Product.aggregate(Q2))\n",
    "print(\"List of suppliers for 'Air Conditioner':\")\n",
    "pprint(suppliers)"
   ]
  },
  {
   "cell_type": "markdown",
   "metadata": {},
   "source": [
    "Q3\n"
   ]
  },
  {
   "cell_type": "code",
   "execution_count": 16,
   "metadata": {},
   "outputs": [
    {
     "name": "stdout",
     "output_type": "stream",
     "text": [
      "List of different products purchased by Thomas Mills:\n",
      "[{'product_name': 'Tablet'},\n",
      " {'product_name': 'Air Conditioner'},\n",
      " {'product_name': 'Monitor'},\n",
      " {'product_name': 'Smartwatch'}]\n"
     ]
    }
   ],
   "source": [
    "# Query 3: List all different products purchased by a customer\n",
    "customer_name = \"Thomas Mills\"  \n",
    "\n",
    "Q3 = [\n",
    "    {\"$match\": {\"customer\": customer_name}},  \n",
    "    {\"$unwind\": \"$products\"},                 \n",
    "    {\"$group\": {\"_id\": \"$products\"}},         \n",
    "    {\"$project\": {\"product_name\": \"$_id\", \"_id\": 0}}  \n",
    "]\n",
    "\n",
    "\n",
    "\n",
    "unique_products = list(Purchase.aggregate(Q3))\n",
    "print(f\"List of different products purchased by {customer_name}:\")\n",
    "pprint(unique_products)"
   ]
  },
  {
   "cell_type": "markdown",
   "metadata": {},
   "source": [
    "Q4\n"
   ]
  },
  {
   "cell_type": "code",
   "execution_count": 17,
   "metadata": {},
   "outputs": [
    {
     "name": "stdout",
     "output_type": "stream",
     "text": [
      "Products sold by 'Modas Paqui' containing 'short sleeves':\n",
      "[]\n"
     ]
    }
   ],
   "source": [
    "# Query 4: List products sold by \"Modas Paqui\" whose name contains \"short sleeves\"\n",
    "supplier_name = \"Modas Paqui\"\n",
    "product_name_keyword = \"short sleeves\"\n",
    "\n",
    "Q4 = [\n",
    "    {\"$match\": {\n",
    "        \"suppliers\": supplier_name,                 \n",
    "        \"name\": {\"$regex\": product_name_keyword, \"$options\": \"i\"}  \n",
    "    }},\n",
    "    {\"$project\": {\"name\": 1, \"_id\": 0}}  \n",
    "]\n",
    "\n",
    "\n",
    "\n",
    "filtered_products = list(Product.aggregate(Q4))\n",
    "print(f\"Products sold by '{supplier_name}' containing '{product_name_keyword}':\")\n",
    "pprint(filtered_products)"
   ]
  },
  {
   "cell_type": "markdown",
   "metadata": {},
   "source": [
    "I dont have such product and supplier, so I will try another query"
   ]
  },
  {
   "cell_type": "code",
   "execution_count": 18,
   "metadata": {},
   "outputs": [
    {
     "name": "stdout",
     "output_type": "stream",
     "text": [
      "Products sold by 'Stark Industries' with the name 'Iron Man':\n",
      "[{'name': 'Iron Man Suit'}]\n"
     ]
    }
   ],
   "source": [
    "supplier_name = \"Stark Industries\"\n",
    "product_name_keyword = \"Iron Man\"\n",
    "\n",
    "Q4 = [\n",
    "    {\"$match\": {\n",
    "        \"suppliers\": supplier_name,                 \n",
    "        \"name\": {\"$regex\": product_name_keyword, \"$options\": \"i\"}  \n",
    "    }},\n",
    "    {\"$project\": {\"name\": 1, \"_id\": 0}}  \n",
    "]\n",
    "\n",
    "\n",
    "filtered_products = list(Product.aggregate(Q4))\n",
    "\n",
    "print(f\"Products sold by '{supplier_name}' with the name '{product_name_keyword}':\")\n",
    "pprint(filtered_products) "
   ]
  },
  {
   "cell_type": "markdown",
   "metadata": {},
   "source": [
    "Q5"
   ]
  },
  {
   "cell_type": "code",
   "execution_count": 24,
   "metadata": {},
   "outputs": [
    {
     "name": "stdout",
     "output_type": "stream",
     "text": [
      "Total weight and volume of products purchased by Thomas Mills on 2024-05-27:\n",
      "[{'total_volume': 130289, 'total_weight': 111.44999999999999}]\n"
     ]
    }
   ],
   "source": [
    "# Query 5: Calculate the total weight and volume of products purchased by a customer on a given day\n",
    "customer_name = \"Thomas Mills\"  \n",
    "purchase_date = \"2024-05-27\"    \n",
    "\n",
    "Q5 = [\n",
    "    {\"$match\": {\"customer\": customer_name, \"purchase_date\": purchase_date}},  \n",
    "    {\"$lookup\": {\n",
    "        \"from\": \"Product\",\n",
    "        \"localField\": \"products\",\n",
    "        \"foreignField\": \"name\",\n",
    "        \"as\": \"product_details\"\n",
    "    }},\n",
    "    {\"$unwind\": \"$product_details\"},  \n",
    "    {\"$group\": {\n",
    "        \"_id\": None,\n",
    "        \"total_weight\": {\"$sum\": \"$product_details.weight\"},  \n",
    "        \"total_volume\": {\"$sum\": {\"$multiply\": [\"$product_details.dimensions.length\", \"$product_details.dimensions.width\", \"$product_details.dimensions.height\"]}}\n",
    "    }},\n",
    "    {\"$project\": {\"_id\": 0, \"total_weight\": 1, \"total_volume\": 1}}  \n",
    "]\n",
    "\n",
    "\n",
    "\n",
    "result = list(Purchase.aggregate(Q5))\n",
    "print(f\"Total weight and volume of products purchased by {customer_name} on {purchase_date}:\")\n",
    "pprint(result)"
   ]
  },
  {
   "cell_type": "markdown",
   "metadata": {},
   "source": [
    "Q6"
   ]
  },
  {
   "cell_type": "code",
   "execution_count": 27,
   "metadata": {},
   "outputs": [
    {
     "name": "stdout",
     "output_type": "stream",
     "text": [
      "[{'avg_shipments_per_month': 1.2727272727272727,\n",
      "  'avg_warehouses_per_month': 3.6363636363636362}]\n"
     ]
    }
   ],
   "source": [
    "# Calculate the average number of shipments and stores per month.\n",
    "Q6 = [\n",
    "    {\"$project\": {\n",
    "        \"month\": {\"$substr\": [\"$purchase_date\", 0, 7]},  \n",
    "        \"shipping_address\": 1,                          \n",
    "        \"products\": 1                                   \n",
    "    }},\n",
    "    {\"$lookup\": {  \n",
    "        \"from\": \"Product\",\n",
    "        \"localField\": \"products\",\n",
    "        \"foreignField\": \"name\",\n",
    "        \"as\": \"product_details\"\n",
    "    }},\n",
    "    {\"$unwind\": \"$product_details\"},  \n",
    "    {\"$lookup\": { \n",
    "        \"from\": \"Supplier\",\n",
    "        \"localField\": \"product_details.suppliers\",\n",
    "        \"foreignField\": \"name\",\n",
    "        \"as\": \"supplier_details\"\n",
    "    }},\n",
    "    {\"$unwind\": \"$supplier_details\"},  \n",
    "    {\"$project\": {\n",
    "        \"month\": 1,\n",
    "        \"shipping_address\": 1,\n",
    "        \"warehouse_address\": \"$supplier_details.warehouse_addresses\"  \n",
    "    }},\n",
    "    {\"$group\": {\n",
    "        \"_id\": {\"month\": \"$month\"},\n",
    "        \"unique_shipments\": {\"$addToSet\": \"$shipping_address\"},  \n",
    "        \"unique_warehouses\": {\"$addToSet\": \"$warehouse_address\"}  \n",
    "    }},\n",
    "    {\"$project\": {\n",
    "        \"month\": \"$_id.month\",\n",
    "        \"monthly_shipments\": {\"$size\": \"$unique_shipments\"},   \n",
    "        \"monthly_warehouses\": {\"$size\": \"$unique_warehouses\"}, \n",
    "        \"_id\": 0\n",
    "    }},\n",
    "    {\"$group\": {\n",
    "        \"_id\": None,  \n",
    "        \"avg_shipments_per_month\": {\"$avg\": \"$monthly_shipments\"},    \n",
    "        \"avg_warehouses_per_month\": {\"$avg\": \"$monthly_warehouses\"}   \n",
    "    }},\n",
    "    {\"$project\": {\n",
    "        \"_id\": 0,\n",
    "        \"avg_shipments_per_month\": 1,\n",
    "        \"avg_warehouses_per_month\": 1\n",
    "    }}\n",
    "]\n",
    "\n",
    "\n",
    "result = list(Purchase.aggregate(Q6))\n",
    "pprint(result)"
   ]
  },
  {
   "cell_type": "markdown",
   "metadata": {},
   "source": [
    "Q7"
   ]
  },
  {
   "cell_type": "code",
   "execution_count": 28,
   "metadata": {},
   "outputs": [
    {
     "name": "stdout",
     "output_type": "stream",
     "text": [
      "Top 3 suppliers with highest turnover volume:\n",
      "[{'supplier_name': 'Rodgers-Parrish', 'total_billing_volume': 497.6},\n",
      " {'supplier_name': 'Fitzgerald, Franklin and Acosta',\n",
      "  'total_billing_volume': 452.75},\n",
      " {'supplier_name': 'Armstrong Ltd', 'total_billing_volume': 447.65}]\n"
     ]
    }
   ],
   "source": [
    "# Query 7: List the three suppliers with the highest turnover volume\n",
    "Q7 = [\n",
    "    {\"$lookup\": {\n",
    "        \"from\": \"Product\",\n",
    "        \"localField\": \"products\",\n",
    "        \"foreignField\": \"name\",\n",
    "        \"as\": \"product_details\"\n",
    "    }},\n",
    "    {\"$unwind\": \"$product_details\"},  \n",
    "    {\"$group\": {\n",
    "        \"_id\": \"$product_details.suppliers\",\n",
    "        \"total_billing_volume\": {\"$sum\": \"$product_details.price_with_vat\"} \n",
    "    }},\n",
    "    {\"$sort\": {\"total_billing_volume\": -1}},  \n",
    "    {\"$limit\": 3},  \n",
    "    {\"$project\": {\"supplier_name\": \"$_id\", \"total_billing_volume\": 1, \"_id\": 0}}  \n",
    "]\n",
    "\n",
    "\n",
    "\n",
    "top_suppliers = list(Purchase.aggregate(Q7))\n",
    "\n",
    "\n",
    "print(\"Top 3 suppliers with highest turnover volume:\")\n",
    "pprint(top_suppliers)"
   ]
  },
  {
   "cell_type": "markdown",
   "metadata": {},
   "source": [
    "Q8"
   ]
  },
  {
   "cell_type": "code",
   "execution_count": 29,
   "metadata": {},
   "outputs": [
    {
     "name": "stdout",
     "output_type": "stream",
     "text": [
      "Warehouses within 100km of the White House, ordered by distance:\n",
      "[{'distance': 3.33290977848722,\n",
      "  'name': 'Lowe, Young and Russo',\n",
      "  'warehouse_addresses': '1600 Pennsylvania Ave NW, Washington, DC 20500, USA'},\n",
      " {'distance': 1291.5080559220412,\n",
      "  'name': 'Barr Group',\n",
      "  'warehouse_addresses': '701 D St NW, Washington, DC 20024, USA'},\n",
      " {'distance': 2318.302729960782,\n",
      "  'name': 'Riggs PLC',\n",
      "  'warehouse_addresses': '3109 M St NW, Washington, DC 20007, USA'},\n",
      " {'distance': 2772.774030464041,\n",
      "  'name': 'Sanchez-Lang',\n",
      "  'warehouse_addresses': '1101 4th St SW, Washington, DC 20024, USA'}]\n"
     ]
    }
   ],
   "source": [
    "# Query 8: List warehouses near the White House (100km maximum distance)\n",
    "latitude = 38.897676   # Latitude for the White House\n",
    "longitude = -77.03653  # Longitude for the White House\n",
    "max_distance_km = 100  \n",
    "\n",
    "\n",
    "Supplier.db.create_index([(\"warehouse_coordinates\", \"2dsphere\")])\n",
    "\n",
    "Q8 = [\n",
    "    {\"$geoNear\": {\n",
    "        \"near\": {\"type\": \"Point\", \"coordinates\": [longitude, latitude]},  \n",
    "        \"distanceField\": \"distance\",  \n",
    "        \"maxDistance\": max_distance_km * 1000,  \n",
    "        \"spherical\": True  \n",
    "    }},\n",
    "    {\"$project\": {\"name\": 1, \"warehouse_addresses\": 1, \"distance\": 1, \"_id\": 0}},  \n",
    "    {\"$sort\": {\"distance\": 1}}  \n",
    "]\n",
    "\n",
    "\n",
    "nearby_warehouses = list(Supplier.aggregate(Q8))\n",
    "\n",
    "\n",
    "print(\"Warehouses within 100km of the White House, ordered by distance:\")\n",
    "pprint(nearby_warehouses)"
   ]
  },
  {
   "cell_type": "markdown",
   "metadata": {},
   "source": [
    "Q9"
   ]
  },
  {
   "cell_type": "code",
   "execution_count": 30,
   "metadata": {},
   "outputs": [
    {
     "name": "stdout",
     "output_type": "stream",
     "text": [
      "Purchases within specified polygon:\n",
      "[{'customer': 'Thomas Mills',\n",
      "  'purchase_date': '2024-05-27',\n",
      "  'shipping_address': 'Carrer de Mallorca, 401, 08013 Barcelona, Spain'},\n",
      " {'customer': 'Belinda Williams',\n",
      "  'purchase_date': '2024-09-29',\n",
      "  'shipping_address': 'Calle de Alcalá, 50, 28014 Madrid, Spain'},\n",
      " {'customer': 'Beth Smith',\n",
      "  'purchase_date': '2023-07-25',\n",
      "  'shipping_address': 'Calle de Alcalá, 50, 28014 Madrid, Spain'},\n",
      " {'customer': 'Barbara Brooks',\n",
      "  'purchase_date': '2023-09-04',\n",
      "  'shipping_address': 'Carrer de Mallorca, 401, 08013 Barcelona, Spain'}]\n"
     ]
    }
   ],
   "source": [
    "# Query 9: List purchases with destination within a specified polygon\n",
    "polygon_coordinates = [\n",
    "    [2.174428, 41.403505],   # Barcelona\n",
    "    [-3.703790, 40.416775],  # Madrid\n",
    "    [-0.127758, 51.507351],  # London\n",
    "    [2.352222, 48.856613],   # Paris\n",
    "    [2.174428, 41.403505]    # Closing the polygon \n",
    "]\n",
    "\n",
    "Q9 = [\n",
    "    {\"$match\": {\n",
    "        \"shipping_coordinates\": {\n",
    "            \"$geoWithin\": {\n",
    "                \"$polygon\": polygon_coordinates\n",
    "            }\n",
    "        }\n",
    "    }},\n",
    "    {\"$project\": {\"customer\": 1, \"shipping_address\": 1, \"purchase_date\": 1, \"_id\": 0}}  \n",
    "]\n",
    "\n",
    "\n",
    "\n",
    "purchases_in_polygon = list(Purchase.aggregate(Q9))\n",
    "\n",
    "print(\"Purchases within specified polygon:\")\n",
    "pprint(purchases_in_polygon)"
   ]
  },
  {
   "cell_type": "markdown",
   "metadata": {},
   "source": [
    "Q10"
   ]
  },
  {
   "cell_type": "code",
   "execution_count": 32,
   "metadata": {},
   "outputs": [
    {
     "name": "stdout",
     "output_type": "stream",
     "text": [
      "Purchases to be shipped from warehouses on the specified date 2024-05-27:\n",
      "[{'customer': 'Thomas Mills',\n",
      "  'purchase_date': '2024-05-27',\n",
      "  'shipping_address': 'Carrer de Mallorca, 401, 08013 Barcelona, Spain',\n",
      "  'warehouse_address': 'Carrer de Mallorca, 401, 08013 Barcelona, Spain'},\n",
      " {'customer': 'Thomas Mills',\n",
      "  'purchase_date': '2024-05-27',\n",
      "  'shipping_address': 'Carrer de Mallorca, 401, 08013 Barcelona, Spain',\n",
      "  'warehouse_address': 'Avenida de la Constitución, 3, 41004 Sevilla, Spain'},\n",
      " {'customer': 'Thomas Mills',\n",
      "  'purchase_date': '2024-05-27',\n",
      "  'shipping_address': 'Carrer de Mallorca, 401, 08013 Barcelona, Spain',\n",
      "  'warehouse_address': 'United Nations Secretariat Building, 405 E 42nd St, '\n",
      "                       'New York, NY 10017, USA'},\n",
      " {'customer': 'Thomas Mills',\n",
      "  'purchase_date': '2024-05-27',\n",
      "  'shipping_address': 'Carrer de Mallorca, 401, 08013 Barcelona, Spain',\n",
      "  'warehouse_address': 'Paseo del Prado, 2, 28014 Madrid, Spain'}]\n"
     ]
    }
   ],
   "source": [
    "target_date = \"2024-05-27\"\n",
    "\n",
    "#Save in a new table the list of purchases that must be sent from a warehouse on a given day\n",
    "Q10 = [\n",
    "    # Step 1: Filter purchases by the given date\n",
    "    {\"$match\": {\"purchase_date\": target_date}},\n",
    "\n",
    "    # Step 2: Join with the product collection\n",
    "    {\"$lookup\": {\n",
    "        \"from\": \"Product\",\n",
    "        \"localField\": \"products\",\n",
    "        \"foreignField\": \"name\",\n",
    "        \"as\": \"product_details\"\n",
    "    }},\n",
    "\n",
    "    {\"$unwind\": \"$product_details\"}, \n",
    "\n",
    "    # Step 3: Join with the supplier collection based on suppliers in products\n",
    "    {\"$lookup\": {\n",
    "        \"from\": \"Supplier\",\n",
    "        \"localField\": \"product_details.suppliers\",\n",
    "        \"foreignField\": \"name\",\n",
    "        \"as\": \"supplier_details\"\n",
    "    }},\n",
    "\n",
    "    {\"$unwind\": \"$supplier_details\"},  \n",
    "\n",
    "    # Step 4: Project the necessary fields\n",
    "    {\"$project\": {\n",
    "        \"customer\": 1,\n",
    "        \"shipping_address\": 1,\n",
    "        \"purchase_date\": 1,\n",
    "        \"warehouse_address\": \"$supplier_details.warehouse_addresses\",\n",
    "        \"_id\": 0\n",
    "    }},\n",
    "\n",
    "    # Step 5: Save the result to a new collection\n",
    "    {\"$out\": \"warehouse_shipments\"}\n",
    "]\n",
    "\n",
    "\n",
    "\n",
    "Purchase.aggregate(Q10)\n",
    "\n",
    "\n",
    "db = Purchase.db.database\n",
    "warehouse_shipments = list(db[\"warehouse_shipments\"].find({}, {\"_id\": 0}))  # Exclude _id for clarity\n",
    "\n",
    "\n",
    "print(f\"Purchases to be shipped from warehouses on the specified date {target_date}:\")\n",
    "pprint(warehouse_shipments)"
   ]
  }
 ],
 "metadata": {
  "kernelspec": {
   "display_name": ".venv",
   "language": "python",
   "name": "python3"
  },
  "language_info": {
   "codemirror_mode": {
    "name": "ipython",
    "version": 3
   },
   "file_extension": ".py",
   "mimetype": "text/x-python",
   "name": "python",
   "nbconvert_exporter": "python",
   "pygments_lexer": "ipython3",
   "version": "3.12.7"
  }
 },
 "nbformat": 4,
 "nbformat_minor": 2
}
